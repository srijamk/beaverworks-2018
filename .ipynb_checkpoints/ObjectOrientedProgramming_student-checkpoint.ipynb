{
 "cells": [
  {
   "cell_type": "code",
   "execution_count": 9,
   "metadata": {
    "collapsed": true
   },
   "outputs": [],
   "source": [
    "from grader import test_complex, test_list"
   ]
  },
  {
   "cell_type": "markdown",
   "metadata": {},
   "source": [
    "# Implementing Complex Numbers\n",
    "\n",
    "## Arithmetic Using Complex Numbers\n",
    "Given the complex numbers $x = a + ib$ and $y = c + di$, where $a, b, c, d$ are all real numbers, the following identities define the arithmetic operations on the field of complex numbers.\n",
    "\n",
    "**Addition**:\n",
    "\\begin{align}\n",
    "x + y = (a + c) + (b + d)i\n",
    "\\end{align}\n",
    "\n",
    "**Multiplication**:\n",
    "\\begin{align}\n",
    "x \\times y = (ac - bd) + (ad + bc)i\n",
    "\\end{align}\n",
    "\n",
    "**Division** (for $y \\ne 0$)\n",
    "\\begin{align}\n",
    "\\frac{x}{y} = \\frac{(ac + bd) + (bc - ad)i}{c^{2} + d^{2}}\n",
    "\\end{align}\n",
    "\n",
    "## Special Operations on Complex Numbers\n",
    "The following are operations that are defined for complex numbers, and which have no analog for real numbers. Given the complex numbers $x = a + ib$:\n",
    "\n",
    "**Complex Conjugation**\n",
    "\\begin{align}\n",
    "\\bar{x} = a - ib\n",
    "\\end{align}\n",
    "\n",
    "**Magnitude**\n",
    "\\begin{align}\n",
    " | x | = \\sqrt{x\\bar{x}} = \\sqrt{a^{2} + b^{2}}\n",
    "\\end{align}\n",
    "\n",
    "## Assignment\n",
    "In Section 6 of the Object Oriented Programming module, we started to create a class that describes complex numbers:\n",
    "\n",
    "```python\n",
    "from math import sqrt\n",
    "class Complex:\n",
    "    def __init__(self, a, b):\n",
    "        self.real = a  # defines the instance-attribute\n",
    "        self.imag = b\n",
    "    \n",
    "    def magnitude(self):\n",
    "        return sqrt(self.real**2 + self.imag**2)\n",
    "```\n",
    "\n",
    "In this assignment, you will complete the implementation that we started while exploring many of Python's differen special methods. In the following cell, implement the class `Complex`. It should have the following behavior:\n",
    "\n",
    "```python\n",
    ">>> x = Complex(1.0, 2)\n",
    ">>>x\n",
    "1.0 + 2i\n",
    ">>> x.real\n",
    "1.0\n",
    ">>> x.imag\n",
    "2\n",
    ">>> x\n",
    "1.0 + 2i\n",
    ">>> x.conj()\n",
    "1.0 - 2i\n",
    ">>> x.magnitude()\n",
    "2.23606797749979\n",
    "```\n",
    "\n",
    "Your class should also be able to support:\n",
    "```python\n",
    ">>> x + a\n",
    ">>> a + x\n",
    "\n",
    ">>> x - a\n",
    ">>> a - x\n",
    "\n",
    ">>> x * a\n",
    ">>> a * x\n",
    "\n",
    "# division by 0 should raise ZeroDivisionError\n",
    ">>> x / a\n",
    ">>> a / x\n",
    "\n",
    ">>> x == a\n",
    ">>> x != a\n",
    "\n",
    "# abs and round are built-in Python functions\n",
    "# `Complex` should be compatible with these\n",
    ">>> abs(x) # returns the same as x.magnitude()\n",
    ">>> round(x) # rounds the real and imaginary parts individually\n",
    ">>> -x  # returns -1*x\n",
    ">>> +x # returns +x\n",
    "\n",
    "```\n",
    "Where `a` is either an instance of: `Complex`, `int`, or `float`\n",
    "\n",
    "For example:\n",
    "```python\n",
    ">>> x = Complex(1.0, 2)\n",
    ">>> x + 2\n",
    "3.0 + 2i\n",
    "```\n"
   ]
  },
  {
   "cell_type": "code",
   "execution_count": 63,
   "metadata": {
    "code_folding": [
     1
    ]
   },
   "outputs": [
    {
     "ename": "TypeError",
     "evalue": "object() takes no parameters",
     "output_type": "error",
     "traceback": [
      "\u001b[0;31m---------------------------------------------------------------------------\u001b[0m",
      "\u001b[0;31mTypeError\u001b[0m                                 Traceback (most recent call last)",
      "\u001b[0;32m<ipython-input-63-5cff36eea8c2>\u001b[0m in \u001b[0;36m<module>\u001b[0;34m()\u001b[0m\n\u001b[1;32m      1\u001b[0m \u001b[0;32mfrom\u001b[0m \u001b[0mmath\u001b[0m \u001b[0;32mimport\u001b[0m \u001b[0msqrt\u001b[0m\u001b[0;34m\u001b[0m\u001b[0m\n\u001b[0;32m----> 2\u001b[0;31m \u001b[0;32mclass\u001b[0m \u001b[0mComplex\u001b[0m\u001b[0;34m:\u001b[0m\u001b[0;34m\u001b[0m\u001b[0m\n\u001b[0m\u001b[1;32m      3\u001b[0m     \u001b[0;32mdef\u001b[0m \u001b[0m__init___\u001b[0m\u001b[0;34m(\u001b[0m\u001b[0mself\u001b[0m\u001b[0;34m,\u001b[0m \u001b[0ma\u001b[0m\u001b[0;34m,\u001b[0m \u001b[0mb\u001b[0m\u001b[0;34m)\u001b[0m\u001b[0;34m:\u001b[0m\u001b[0;34m\u001b[0m\u001b[0m\n\u001b[1;32m      4\u001b[0m         \u001b[0mself\u001b[0m\u001b[0;34m.\u001b[0m\u001b[0mreal\u001b[0m \u001b[0;34m=\u001b[0m \u001b[0ma\u001b[0m\u001b[0;34m\u001b[0m\u001b[0m\n\u001b[1;32m      5\u001b[0m         \u001b[0mself\u001b[0m\u001b[0;34m.\u001b[0m\u001b[0mimag\u001b[0m \u001b[0;34m=\u001b[0m \u001b[0mb\u001b[0m\u001b[0;34m\u001b[0m\u001b[0m\n",
      "\u001b[0;32m<ipython-input-63-5cff36eea8c2>\u001b[0m in \u001b[0;36mComplex\u001b[0;34m()\u001b[0m\n\u001b[1;32m     16\u001b[0m     \u001b[0;32mdef\u001b[0m \u001b[0mimag\u001b[0m\u001b[0;34m(\u001b[0m\u001b[0mself\u001b[0m\u001b[0;34m)\u001b[0m\u001b[0;34m:\u001b[0m\u001b[0;34m\u001b[0m\u001b[0m\n\u001b[1;32m     17\u001b[0m         \u001b[0;32mreturn\u001b[0m \u001b[0mself\u001b[0m\u001b[0;34m.\u001b[0m\u001b[0mimag\u001b[0m\u001b[0;34m\u001b[0m\u001b[0m\n\u001b[0;32m---> 18\u001b[0;31m     \u001b[0mx\u001b[0m \u001b[0;34m=\u001b[0m \u001b[0mComplex\u001b[0m\u001b[0;34m(\u001b[0m\u001b[0;36m0\u001b[0m\u001b[0;34m,\u001b[0m \u001b[0;36m0\u001b[0m\u001b[0;34m)\u001b[0m\u001b[0;34m\u001b[0m\u001b[0m\n\u001b[0m",
      "\u001b[0;31mTypeError\u001b[0m: object() takes no parameters"
     ]
    }
   ],
   "source": [
    "from math import sqrt\n",
    "class Complex:\n",
    "    def __init___(self, a, b):\n",
    "        self.real = a\n",
    "        self.imag = b\n",
    "        \n",
    "    def __repr__(self):\n",
    "        return self.real   \n",
    "    \n",
    "    def magnitude(self):\n",
    "        return sqrt(self.real**2 + self.imag**2)\n",
    "    \n",
    "    def real(self):\n",
    "        return self.real\n",
    "    \n",
    "    def imag(self):\n",
    "        return self.imag\n",
    "    \n",
    "class Main:\n",
    "    x = Complex(0, 0)\n"
   ]
  },
  {
   "cell_type": "code",
   "execution_count": 57,
   "metadata": {},
   "outputs": [
    {
     "name": "stdout",
     "output_type": "stream",
     "text": [
      "Testing Complex.__init___\n",
      "Testing Complex.__repr__\n"
     ]
    },
    {
     "ename": "TypeError",
     "evalue": "__repr__() missing 2 required positional arguments: 'a' and 'b'",
     "output_type": "error",
     "traceback": [
      "\u001b[0;31m---------------------------------------------------------------------------\u001b[0m",
      "\u001b[0;31mTypeError\u001b[0m                                 Traceback (most recent call last)",
      "\u001b[0;32m<ipython-input-57-f3b14d8552ce>\u001b[0m in \u001b[0;36m<module>\u001b[0;34m()\u001b[0m\n\u001b[1;32m      1\u001b[0m \u001b[0;31m# test your implementation of Complex\u001b[0m\u001b[0;34m\u001b[0m\u001b[0;34m\u001b[0m\u001b[0m\n\u001b[0;32m----> 2\u001b[0;31m \u001b[0mtest_complex\u001b[0m\u001b[0;34m(\u001b[0m\u001b[0mComplex\u001b[0m\u001b[0;34m)\u001b[0m\u001b[0;34m\u001b[0m\u001b[0m\n\u001b[0m",
      "\u001b[0;32m/Users/Kiran/Srija_Work/BeaverWorks 2018/graders/grader36.pyc\u001b[0m in \u001b[0;36mtest_complex\u001b[0;34m(StdntClass)\u001b[0m\n",
      "\u001b[0;32m/Users/Kiran/Srija_Work/BeaverWorks 2018/graders/grader36.pyc\u001b[0m in \u001b[0;36mtest_init\u001b[0;34m(StdntClass)\u001b[0m\n",
      "\u001b[0;31mTypeError\u001b[0m: __repr__() missing 2 required positional arguments: 'a' and 'b'"
     ]
    }
   ],
   "source": [
    "# test your implementation of Complex\n",
    "test_complex(Complex)"
   ]
  },
  {
   "cell_type": "markdown",
   "metadata": {
    "collapsed": true
   },
   "source": [
    "# Implementing a List-Like Class\n",
    "\n",
    "Continuing with your foray into the world of Python's special methods, you will be implementing a class that mimics many of the behaviors of Python's built-in `list` class.\n",
    "\n",
    "More specifically, you will be implementing a class that supports **iteration** (and thus is known as an iterator). Any `x` that supports the following syntax:\n",
    "```python\n",
    "for i in x:\n",
    "    pass\n",
    "```\n",
    "is an **iterator**. Thus lists and tuples are both examples of iterators. The official documentation on iterators can be found [here](https://docs.python.org/3/library/stdtypes.html#typeiter). A summary of special methods that are needed to emulate container types (e.g. lists) is provided [here](https://docs.python.org/3/reference/datamodel.html#emulating-container-types). A nice, somewhat informal introduction to iterators can be found [here](www.diveintopython3.net/iterators.html#a-fibonacci-iterator). You will need to know **how to check, within your code, if a class is an iterable**. Learning from these materials and making use of other special methods, implement a `MyList` class, which should support the following behavior:\n",
    "```python\n",
    ">>> issubclass(MyList, (list, tuple))\n",
    "False\n",
    "\n",
    "# MyList should be able to accept an arbitrary number\n",
    "# of input arguments\n",
    ">>> x = MyList(1, 2, 3, 4, 5)\n",
    "\n",
    "# you may need to get creative for this __repr__!\n",
    ">>> x\n",
    "|1, 2, 3, 4, 5|\n",
    "\n",
    "# MyList should be able to take *any* iterable as its\n",
    "# first (and only) input argument\n",
    ">>> x = MyList([1, 2, 3, 4, 5])\n",
    ">>> x\n",
    "|1, 2, 3, 4, 5|\n",
    "\n",
    ">>> len(x)\n",
    "5\n",
    "\n",
    ">>> x[0]\n",
    "1\n",
    "\n",
    ">>> x[0:3]\n",
    "|1, 2, 3|\n",
    "\n",
    "# review the `slice` object!\n",
    ">>> isinstance(x[0:3], MyList)\n",
    "True\n",
    "\n",
    ">>> x[0:1]\n",
    "|1|\n",
    "\n",
    ">>> 1 in x\n",
    "True\n",
    "\n",
    ">>> -1 in x\n",
    "False\n",
    "\n",
    ">>> x.append(10)\n",
    ">>> x\n",
    "|1, 2, 3, 4, 5, 10|\n",
    "\n",
    ">>> [i for i in x]\n",
    "[1, 2, 3, 4, 5, 10]\n",
    "\n",
    ">>> MyList()\n",
    "||\n",
    "\n",
    ">>>len(MyList())\n",
    "0\n",
    ">>> [i for i in MyList()]\n",
    "[]\n",
    "```\n",
    "Note: although you should not have your class inherit from `list`, you can (and probably should) make use of a list internally within your class. This will greatly simplify your implementation."
   ]
  },
  {
   "cell_type": "code",
   "execution_count": 6,
   "metadata": {
    "collapsed": true
   },
   "outputs": [],
   "source": [
    "class MyList:\n",
    "    # enter your code here\n",
    "    pass"
   ]
  },
  {
   "cell_type": "code",
   "execution_count": 7,
   "metadata": {},
   "outputs": [
    {
     "ename": "NameError",
     "evalue": "name 'test_list' is not defined",
     "output_type": "error",
     "traceback": [
      "\u001b[0;31m---------------------------------------------------------------------------\u001b[0m",
      "\u001b[0;31mNameError\u001b[0m                                 Traceback (most recent call last)",
      "\u001b[0;32m<ipython-input-7-00a18097c81b>\u001b[0m in \u001b[0;36m<module>\u001b[0;34m()\u001b[0m\n\u001b[1;32m      1\u001b[0m \u001b[0;31m# test your implementation of MyList\u001b[0m\u001b[0;34m\u001b[0m\u001b[0;34m\u001b[0m\u001b[0m\n\u001b[0;32m----> 2\u001b[0;31m \u001b[0mtest_list\u001b[0m\u001b[0;34m(\u001b[0m\u001b[0mMyList\u001b[0m\u001b[0;34m)\u001b[0m\u001b[0;34m\u001b[0m\u001b[0m\n\u001b[0m",
      "\u001b[0;31mNameError\u001b[0m: name 'test_list' is not defined"
     ]
    }
   ],
   "source": [
    "# test your implementation of MyList\n",
    "test_list(MyList)"
   ]
  }
 ],
 "metadata": {
  "kernelspec": {
   "display_name": "Python 3",
   "language": "python",
   "name": "python3"
  },
  "language_info": {
   "codemirror_mode": {
    "name": "ipython",
    "version": 3
   },
   "file_extension": ".py",
   "mimetype": "text/x-python",
   "name": "python",
   "nbconvert_exporter": "python",
   "pygments_lexer": "ipython3",
   "version": "3.6.1"
  }
 },
 "nbformat": 4,
 "nbformat_minor": 2
}
